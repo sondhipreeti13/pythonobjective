{
 "cells": [
  {
   "cell_type": "markdown",
   "metadata": {},
   "source": [
    " 1Q) How can we create an iterator object from a list?"
   ]
  },
  {
   "cell_type": "code",
   "execution_count": null,
   "metadata": {},
   "outputs": [],
   "source": [
    "a) Bypassing the given list to the iter() function"
   ]
  },
  {
   "cell_type": "markdown",
   "metadata": {},
   "source": [
    "Q2. If the function contains at least of one “yield” statement, then it\n",
    "becomes ______\n"
   ]
  },
  {
   "cell_type": "code",
   "execution_count": null,
   "metadata": {},
   "outputs": [],
   "source": [
    "b) a generator function"
   ]
  },
  {
   "cell_type": "markdown",
   "metadata": {},
   "source": [
    "Q3. What is the output of the code?\n",
    "mylist = [1, 3, 6, 10]\n",
    "2. a = (x**2 for x in mylist)\n",
    "3. print(next(a), next(a))"
   ]
  },
  {
   "cell_type": "code",
   "execution_count": null,
   "metadata": {},
   "outputs": [],
   "source": [
    "b) 1 9"
   ]
  },
  {
   "cell_type": "markdown",
   "metadata": {},
   "source": [
    "Q4. What are the criteria that must be met to create closure in Python?"
   ]
  },
  {
   "cell_type": "code",
   "execution_count": null,
   "metadata": {},
   "outputs": [],
   "source": [
    "d) All of the above."
   ]
  },
  {
   "cell_type": "markdown",
   "metadata": {},
   "source": [
    "Q5. What is the output of the code?\n",
    "def Foo(n):\n",
    "2. def multiplier(x):\n",
    "3. return x * n\n",
    "4. return multiplier\n",
    "5.\n",
    "6. a = Foo(5)\n",
    "7. b = Foo(5)\n",
    "8.\n",
    "9. print(a(b(2)))"
   ]
  },
  {
   "cell_type": "code",
   "execution_count": null,
   "metadata": {},
   "outputs": [],
   "source": [
    "d) 50"
   ]
  },
  {
   "cell_type": "markdown",
   "metadata": {},
   "source": [
    "Q6. What is the output of the code?\n",
    "def make_pretty(func):\n",
    "2. def inner():\n",
    "3. print(\"I got decorated\")\n",
    "4. func()\n",
    "5. return inner\n",
    "6.\n",
    "7. def ordinary():\n",
    "8. print(\"I am ordinary\")\n",
    "9.\n",
    "10. pretty = make_pretty(ordinary)\n",
    "11. pretty()\n",
    "\n"
   ]
  },
  {
   "cell_type": "code",
   "execution_count": null,
   "metadata": {},
   "outputs": [],
   "source": [
    "c) I got decorated\n",
    " I am ordinary"
   ]
  },
  {
   "cell_type": "markdown",
   "metadata": {},
   "source": [
    "Q7: What is the more pythonic way to use getters and setters?"
   ]
  },
  {
   "cell_type": "code",
   "execution_count": null,
   "metadata": {},
   "outputs": [],
   "source": [
    "d) @property"
   ]
  },
  {
   "cell_type": "markdown",
   "metadata": {},
   "source": [
    "Q8. In Python, there is a built-in function property() that returns a\n",
    "property object. The property object has which of the methods?\n"
   ]
  },
  {
   "cell_type": "code",
   "execution_count": null,
   "metadata": {},
   "outputs": [],
   "source": [
    "b) getter(), setter() and delete()"
   ]
  },
  {
   "cell_type": "markdown",
   "metadata": {},
   "source": [
    "Q9. Which of the following statement is true?\n"
   ]
  },
  {
   "cell_type": "code",
   "execution_count": null,
   "metadata": {},
   "outputs": [],
   "source": [
    "d) None of the above"
   ]
  },
  {
   "cell_type": "markdown",
   "metadata": {},
   "source": [
    "Q10. For the following codes, which of the following statements is true?\n",
    "1. def printHello():\n",
    "2. print(\"Hello\")\n",
    "3. a = printHello()\n"
   ]
  },
  {
   "cell_type": "code",
   "execution_count": null,
   "metadata": {},
   "outputs": [],
   "source": [
    "b) Both printHello() and the reference to the same object."
   ]
  },
  {
   "cell_type": "markdown",
   "metadata": {},
   "source": [
    "Q11. What is the output of the program?\n",
    "1. def outerFunction():\n",
    "2. global a\n",
    "3. a = 20\n",
    "4. def innerFunction():\n",
    "5. global a\n",
    "6. a = 30\n",
    "7. print('a =', a)\n",
    "8. a = 10\n",
    "9. outerFunction()\n",
    "10. print('a =', a)\n"
   ]
  },
  {
   "cell_type": "code",
   "execution_count": null,
   "metadata": {},
   "outputs": [],
   "source": [
    "a=20"
   ]
  },
  {
   "cell_type": "markdown",
   "metadata": {},
   "source": [
    "Q12. Which of the following statements is true?\n",
    "a) A class is a blueprint for the object.\n",
    "b) You can only make the single object from the given class\n",
    "c) Both statements are true.\n",
    "d) Neither statement is true.\n"
   ]
  },
  {
   "cell_type": "code",
   "execution_count": null,
   "metadata": {},
   "outputs": [],
   "source": [
    "c) Both statements are true."
   ]
  },
  {
   "cell_type": "markdown",
   "metadata": {},
   "source": [
    "Q13. What is the output of the code?\n",
    "1. class Foo:\n",
    "2. def printLine(self, line='Python'):\n",
    "3. print(line)\n",
    "4.\n",
    "5. o1 = Foo()\n",
    "6. o1.printLine('Java')"
   ]
  },
  {
   "cell_type": "code",
   "execution_count": null,
   "metadata": {},
   "outputs": [],
   "source": [
    "c)Java"
   ]
  },
  {
   "cell_type": "markdown",
   "metadata": {},
   "source": [
    "Q14. What is the function of the __init__() function in Python?\n",
    "a) Initialises the class for use.\n",
    "b) This function is called, when the new object is instantiated\n",
    "c) Initialises all the data attributes to zero when called\n",
    "d) None of the above"
   ]
  },
  {
   "cell_type": "code",
   "execution_count": null,
   "metadata": {},
   "outputs": [],
   "source": [
    "b) This function is called, when the new object is instantiated"
   ]
  },
  {
   "cell_type": "markdown",
   "metadata": {},
   "source": [
    "Q15. What is the output of the code?\n",
    "1. class Point:\n",
    "2. def __init__(self, x = 0, y = 0):\n",
    "3. self.x = x+1\n",
    "4. self.y = y+1\n",
    "5.\n",
    "6. p1 = Point()\n",
    "7. print(p1.x, p1.y)\n"
   ]
  },
  {
   "cell_type": "code",
   "execution_count": null,
   "metadata": {},
   "outputs": [],
   "source": [
    "b) 1 1\n"
   ]
  },
  {
   "cell_type": "markdown",
   "metadata": {},
   "source": [
    "Q16. Which of the following code used the inheritance feature?"
   ]
  },
  {
   "cell_type": "code",
   "execution_count": null,
   "metadata": {},
   "outputs": [],
   "source": [
    "c)\n",
    "1. class Foo:\n",
    "2. pass\n",
    "3. class Hoo(Foo):\n",
    "pass"
   ]
  },
  {
   "cell_type": "markdown",
   "metadata": {},
   "source": [
    "Q17 If you a class is derived from two different classes, it’s called\n",
    "__"
   ]
  },
  {
   "cell_type": "code",
   "execution_count": null,
   "metadata": {},
   "outputs": [],
   "source": [
    "b) Multiple Inheritance"
   ]
  },
  {
   "cell_type": "markdown",
   "metadata": {},
   "source": [
    "Q18. Which of the following statements is true?\n",
    "a) In Python, the same operator may behave differently depends upon the operands.\n",
    "b) You can change the way operators which behave in Python.\n",
    "c) Special method __add()__ is called when + operator\n",
    "d) All of the above."
   ]
  },
  {
   "cell_type": "code",
   "execution_count": null,
   "metadata": {},
   "outputs": [],
   "source": [
    "d) All of the above."
   ]
  },
  {
   "cell_type": "markdown",
   "metadata": {},
   "source": [
    "Q19. What is the output of the code?\n",
    "1. class Point:\n",
    "2.\n",
    "3. def __init__(self, x = 0, y = 0):\n",
    "4. self.x = x\n",
    "5. self.y = y\n",
    "6.\n",
    "7. def __sub__(self, other):\n",
    "8. x = self.x + other.x\n",
    "9. y = self.y + other.y\n",
    "10. return Point(x,y)\n",
    "11.\n",
    "12. p1 = Point(3, 4)\n",
    "13. p2 = Point(1, 2)\n",
    "14. result = p1-p2\n",
    "15. print(result.x, result.y)"
   ]
  },
  {
   "cell_type": "code",
   "execution_count": null,
   "metadata": {},
   "outputs": [],
   "source": [
    "b) 4 6"
   ]
  },
  {
   "cell_type": "markdown",
   "metadata": {},
   "source": [
    "Q20. Opening a file in ‘a’ mode\n",
    "a) opens a file for reading\n",
    "b) opens a file for writing\n",
    "c) opens the file for appending, at the end of file\n",
    "d) opens a file for exclusive creation"
   ]
  },
  {
   "cell_type": "code",
   "execution_count": null,
   "metadata": {},
   "outputs": [],
   "source": [
    "c) opens the file for appending, at the end of file"
   ]
  },
  {
   "cell_type": "markdown",
   "metadata": {},
   "source": [
    "Q21. What does the following code do?\n",
    " f = open(\"test.txt\")"
   ]
  },
  {
   "cell_type": "code",
   "execution_count": null,
   "metadata": {},
   "outputs": [],
   "source": [
    "b) Opens test.txt file for reading only"
   ]
  },
  {
   "cell_type": "markdown",
   "metadata": {},
   "source": [
    "Q22. Which of the codes closes files automatically if an exception\n",
    "occurs?"
   ]
  },
  {
   "cell_type": "code",
   "execution_count": null,
   "metadata": {},
   "outputs": [],
   "source": [
    "c) None of the above"
   ]
  },
  {
   "cell_type": "markdown",
   "metadata": {},
   "source": [
    "Q23. For the following code,\n",
    "1. f = open('test.txt', 'r', encoding = 'utf-8')\n",
    "2. f.read()\n",
    "Which of the following statement is true"
   ]
  },
  {
   "cell_type": "code",
   "execution_count": null,
   "metadata": {},
   "outputs": [],
   "source": [
    "a) This program reads the content of the test.txt file"
   ]
  },
  {
   "cell_type": "markdown",
   "metadata": {},
   "source": [
    "Q24. What does the following code do?\n",
    "os.listdir()"
   ]
  },
  {
   "cell_type": "code",
   "execution_count": null,
   "metadata": {},
   "outputs": [],
   "source": [
    "c) Prints all the directories and files inside the given directory"
   ]
  },
  {
   "cell_type": "markdown",
   "metadata": {},
   "source": [
    "Q25. Which of the following is correct?\n",
    "a) An exception is an error that occurs in the runtime.\n",
    "b) A syntax error is also an exception.\n",
    "c) An exception is used to exclude a block of code in python.\n",
    "d) All of the above."
   ]
  },
  {
   "cell_type": "code",
   "execution_count": null,
   "metadata": {},
   "outputs": [],
   "source": [
    "d) All of the above."
   ]
  },
  {
   "cell_type": "markdown",
   "metadata": {},
   "source": [
    "Q26. What will happen if we try to open the file that doesn’t exist?"
   ]
  },
  {
   "cell_type": "code",
   "execution_count": null,
   "metadata": {},
   "outputs": [],
   "source": [
    "c) An exception is raised."
   ]
  },
  {
   "cell_type": "markdown",
   "metadata": {},
   "source": [
    "Q27. What is the output of the code?\n",
    "1. number = 5.0\n",
    "2. try:\n",
    "3. r = 10/number\n",
    "4. print(r)\n",
    "5. except:\n",
    "6. print(\"Oops! Error occurred.\")"
   ]
  },
  {
   "cell_type": "code",
   "execution_count": null,
   "metadata": {},
   "outputs": [],
   "source": [
    "b) 2.0"
   ]
  },
  {
   "cell_type": "markdown",
   "metadata": {},
   "source": [
    "Q28. What does the following code do?\n",
    "1. try:\n",
    "2.  code that can raise an error\n",
    "3. pass\n",
    "4.\n",
    "5. except (TypeError, ZeroDivisionError):\n",
    "6. print(\"Two\")"
   ]
  },
  {
   "cell_type": "code",
   "execution_count": null,
   "metadata": {},
   "outputs": [],
   "source": [
    "c) Prints Two if the TypeError or ZeroDivisionError exception occurs"
   ]
  },
  {
   "cell_type": "markdown",
   "metadata": {},
   "source": [
    "Q29. Which of the following statement is true?\n",
    "a) You cannot create custom exceptions in Python.\n",
    "b) You can create the user-defined exception by deriving a class from Exception class.\n",
    "c) You can create a user-defined exception by deriving a class from Error class.\n",
    "d) None of the above."
   ]
  },
  {
   "cell_type": "code",
   "execution_count": null,
   "metadata": {},
   "outputs": [],
   "source": [
    "b) You can create the user-defined exception by deriving a class from Exception class"
   ]
  },
  {
   "cell_type": "markdown",
   "metadata": {},
   "source": [
    "Q30. Which of the following statement is true?\n",
    "a) Functions are used to create objects in Python.\n",
    "b) Functions make your program run faster.\n",
    "c) The function is a piece of code that can perform a specific task.\n",
    "d) All of the above\n"
   ]
  },
  {
   "cell_type": "code",
   "execution_count": null,
   "metadata": {},
   "outputs": [],
   "source": [
    "d) All of the above"
   ]
  },
  {
   "cell_type": "markdown",
   "metadata": {},
   "source": [
    "Q31. What is the output of the code?\n",
    "1. def printLine(text):\n",
    "2. print(text, 'is awesome.')\n",
    "3.\n",
    "4. printLine('Python')"
   ]
  },
  {
   "cell_type": "code",
   "execution_count": null,
   "metadata": {},
   "outputs": [],
   "source": [
    "b) Python is awesome."
   ]
  },
  {
   "cell_type": "markdown",
   "metadata": {},
   "source": [
    "Q32. If the return statement is not used inside the function, the function\n",
    "will return:\n",
    "a) 0\n",
    "b) None object\n",
    "c) an arbitrary integer\n",
    "d) Error! Functions in Python must have a return statement."
   ]
  },
  {
   "cell_type": "code",
   "execution_count": null,
   "metadata": {},
   "outputs": [],
   "source": [
    "b) None object"
   ]
  },
  {
   "cell_type": "markdown",
   "metadata": {},
   "source": [
    "Q33. What is the output of the code?\n",
    "1. def greetPerson(*name):\n",
    "2. print('Hello', name)\n",
    "3.\n",
    "4. greetPerson('Frodo', 'Sauron'"
   ]
  },
  {
   "cell_type": "code",
   "execution_count": null,
   "metadata": {},
   "outputs": [],
   "source": [
    "b) Hello ('Frodo', 'Sauron')"
   ]
  },
  {
   "cell_type": "markdown",
   "metadata": {},
   "source": [
    "Q 34. What is a recursive function?"
   ]
  },
  {
   "cell_type": "code",
   "execution_count": null,
   "metadata": {},
   "outputs": [],
   "source": [
    "b) A function that calls itself"
   ]
  },
  {
   "cell_type": "markdown",
   "metadata": {},
   "source": [
    "Q35. What is the output of the program?\n",
    "1. result = lambda x: x * x\n",
    "2. print(result(5))"
   ]
  },
  {
   "cell_type": "code",
   "execution_count": null,
   "metadata": {},
   "outputs": [],
   "source": [
    "c) 25"
   ]
  },
  {
   "cell_type": "markdown",
   "metadata": {},
   "source": [
    "Q36. What is the output of the program?\n",
    "1. def Foo(x):\n",
    "2. if (x==1):\n",
    "3. return 1\n",
    "4. else:\n",
    "5. return x+Foo(x-1)\n",
    "6.\n",
    "7. print(Foo(4))"
   ]
  },
  {
   "cell_type": "code",
   "execution_count": null,
   "metadata": {},
   "outputs": [],
   "source": [
    "a) 10"
   ]
  },
  {
   "cell_type": "markdown",
   "metadata": {},
   "source": [
    "Q37. Suppose you need to print pi constant defined in the math module.\n",
    "Which of the following code can do this task?\n"
   ]
  },
  {
   "cell_type": "code",
   "execution_count": 35,
   "metadata": {},
   "outputs": [
    {
     "name": "stdout",
     "output_type": "stream",
     "text": [
      "3.141592653589793\n"
     ]
    }
   ],
   "source": [
    "c) from math import pi\n",
    "print(pi)"
   ]
  },
  {
   "cell_type": "markdown",
   "metadata": {},
   "source": [
    "Q38. Which operator is used in Python to import modules from the\n",
    "packages?"
   ]
  },
  {
   "cell_type": "code",
   "execution_count": null,
   "metadata": {},
   "outputs": [],
   "source": [
    "a). operator"
   ]
  },
  {
   "cell_type": "markdown",
   "metadata": {},
   "source": [
    "Q39. What is the output of the code?\n",
    "1. numbers = [1, 3, 6]\n",
    "2. newNumbers = tuple(map(lambda x: x , numbers))\n",
    "3. print(newNumbers)\n"
   ]
  },
  {
   "cell_type": "code",
   "execution_count": null,
   "metadata": {},
   "outputs": [],
   "source": [
    "b) (1, 3, 6)"
   ]
  },
  {
   "cell_type": "markdown",
   "metadata": {},
   "source": [
    "Q40. What is the output of the code?\n",
    "1. if None:\n",
    "2. print(“Hello”)"
   ]
  },
  {
   "cell_type": "code",
   "execution_count": null,
   "metadata": {},
   "outputs": [],
   "source": [
    "d) Syntax error"
   ]
  },
  {
   "cell_type": "markdown",
   "metadata": {},
   "source": [
    "Q41. The if-elif-else executes only one block of code among several\n",
    "blocks.\n"
   ]
  },
  {
   "cell_type": "code",
   "execution_count": null,
   "metadata": {},
   "outputs": [],
   "source": [
    "c) It depends on the expression used."
   ]
  },
  {
   "cell_type": "markdown",
   "metadata": {},
   "source": [
    "Q42. What is the output of the code?\n",
    "1. for i in [1, 0]:\n",
    "2. print(i+1)"
   ]
  },
  {
   "cell_type": "code",
   "execution_count": null,
   "metadata": {},
   "outputs": [],
   "source": [
    "a) 2\n",
    " 1"
   ]
  },
  {
   "cell_type": "markdown",
   "metadata": {},
   "source": [
    "Q43. In the Python, for and while loop can have the optional else\n",
    "statement?\n",
    "a) Only for loop can have the optional else statement\n",
    "b) Only while loop can have the optional else statement\n",
    "c) Both loops can have optional else statement\n",
    "d) Loops cannot have else statement in Python\n"
   ]
  },
  {
   "cell_type": "code",
   "execution_count": null,
   "metadata": {},
   "outputs": [],
   "source": [
    "a) Only for loop can have the optional else statement"
   ]
  },
  {
   "cell_type": "markdown",
   "metadata": {},
   "source": [
    "Q44. What is the output of the code?\n",
    "1.i = sum = 0\n",
    "2.\n",
    "3.while i <= 4:\n",
    "4. sum += i\n",
    "5. i = i+1\n",
    "6.\n",
    "7.print(sum)\n"
   ]
  },
  {
   "cell_type": "code",
   "execution_count": null,
   "metadata": {},
   "outputs": [],
   "source": [
    "b) 10"
   ]
  },
  {
   "cell_type": "markdown",
   "metadata": {},
   "source": [
    "i = sum = 0 \n",
    "while i <= 4:\n",
    "    sum += i\n",
    "    i = i+1 \n",
    "print(sum)"
   ]
  },
  {
   "cell_type": "markdown",
   "metadata": {},
   "source": [
    "Q45. What is the output of the code?\n",
    "1. while 4 == 4:\n",
    "2. print('4')"
   ]
  },
  {
   "cell_type": "code",
   "execution_count": null,
   "metadata": {},
   "outputs": [],
   "source": [
    "c) 4 is printed infinitely until the program closes"
   ]
  },
  {
   "cell_type": "markdown",
   "metadata": {},
   "source": [
    "Q46. Is it better to use the for loop instead of while if we are iterating\n",
    "through a sequence?"
   ]
  },
  {
   "cell_type": "code",
   "execution_count": null,
   "metadata": {},
   "outputs": [],
   "source": [
    "b) Yes, for loop is more pythonic choice."
   ]
  },
  {
   "cell_type": "markdown",
   "metadata": {},
   "source": [
    "Q47. Which of the following statement is true?\n",
    "a) “break”- It terminates the loop containing it.\n",
    "b) “continue” - It is used to skip the rest of the code inside the loops.\n",
    "c) break and continue: These are almost always used with if, if...else and if...elif...else\n",
    "statements.\n",
    "d) All of the above."
   ]
  },
  {
   "cell_type": "code",
   "execution_count": null,
   "metadata": {},
   "outputs": [],
   "source": [
    "d) All of the above."
   ]
  },
  {
   "cell_type": "markdown",
   "metadata": {},
   "source": [
    "Q48. What is the output of the code?\n",
    "1. for char in 'PYTHON STRING':\n",
    "2. if char == ' ':\n",
    "3. break\n",
    "4.\n",
    "P a g e 16 | 37\n",
    "5. print(char, end='')\n",
    "6.\n",
    "7. if char == 'O':\n",
    "8. continue\n",
    "\""
   ]
  },
  {
   "cell_type": "code",
   "execution_count": null,
   "metadata": {},
   "outputs": [],
   "source": [
    "a) PYTHON"
   ]
  },
  {
   "cell_type": "markdown",
   "metadata": {},
   "source": [
    "Q49. Which of the statement is true about the “pass”\n",
    "statement?\n",
    "a) Python interpreter- It ignores the “pass” statement like comments.\n",
    "b) Pass statement: It terminates the loop containing pass statement.\n",
    "c) It is used as the placeholder for future implementation of functions, loops, etc\n",
    "d) All of the above."
   ]
  },
  {
   "cell_type": "code",
   "execution_count": null,
   "metadata": {},
   "outputs": [],
   "source": [
    "a) Python interpreter- It ignores the “pass” statement like comments."
   ]
  },
  {
   "cell_type": "markdown",
   "metadata": {},
   "source": [
    "Q50. In regards to separated value files such as .csv and .tsv, what is\n",
    "the delimiter?"
   ]
  },
  {
   "cell_type": "code",
   "execution_count": null,
   "metadata": {},
   "outputs": [],
   "source": [
    "d) Any character such as the comma (,) or tab (\\t) that is used to separate the row data"
   ]
  },
  {
   "cell_type": "markdown",
   "metadata": {},
   "source": [
    "Q51. In separated value files such as .csv and .tsv, what does the first\n",
    "row in the file typically contain?\n"
   ]
  },
  {
   "cell_type": "code",
   "execution_count": null,
   "metadata": {},
   "outputs": [],
   "source": [
    "a) The column names of the data."
   ]
  },
  {
   "cell_type": "markdown",
   "metadata": {},
   "source": [
    "Q52. Assume you have a file object my_data, which has properly\n",
    "opened a separated value file that uses the tab character (\\t) as the\n",
    "delimiter.\n",
    "What is the proper way to open the file using the Python CSV module\n",
    "and assign it to the variable csv_reader?"
   ]
  },
  {
   "cell_type": "code",
   "execution_count": null,
   "metadata": {},
   "outputs": [],
   "source": [
    "b) csv.reader(my_data, delimiter='\\t')"
   ]
  },
  {
   "cell_type": "markdown",
   "metadata": {},
   "source": [
    "Q53. When iterating over an object returned from csv.reader(), what is\n",
    "returned with each iteration?\n",
    "for item in csv_reader:\n",
    " print(item)"
   ]
  },
  {
   "cell_type": "code",
   "execution_count": null,
   "metadata": {},
   "outputs": [],
   "source": [
    "b) The row data as a list"
   ]
  },
  {
   "cell_type": "markdown",
   "metadata": {},
   "source": [
    "Q54. When writing to a CSV file using the .writerow() method of\n",
    "the csv.DictWriter object, what must each key in the\n",
    "input dict represent? Below is an example:\n",
    "with open('test_file.csv', mode='w') as csv_file:\n",
    " writer = csv.DictWriter(\n",
    " csv_file,\n",
    " fieldnames=['first_col', 'second_col']\n",
    " )\n",
    " writer.writeheader()\n",
    " This input dictionary is what the question is referring\n",
    "  to and is not necessarily correct as shown.\n",
    " writer.writerow({'key1':'value1', 'key2':'value2'})"
   ]
  },
  {
   "cell_type": "code",
   "execution_count": null,
   "metadata": {},
   "outputs": [],
   "source": [
    "c) Each key must match up to the field names (column names) used to identify the column data"
   ]
  },
  {
   "cell_type": "markdown",
   "metadata": {},
   "source": [
    "Q55. Which is the correct way to open the CSV file hrdata.csv for\n",
    "reading using the pandas package? Assume that the pandas\n",
    "package has already been imported.\n",
    "a) pandas.open_csv('hrdata.csv', 'r')\n",
    "b) pandas.read_table('hrdata.csv')\n",
    "c) pandas.read_csv('hrdata.csv')\n",
    "d) pandas.open('hrdata.csv','r')"
   ]
  },
  {
   "cell_type": "code",
   "execution_count": null,
   "metadata": {},
   "outputs": [],
   "source": [
    "c) pandas.read_csv('hrdata.csv')"
   ]
  },
  {
   "cell_type": "markdown",
   "metadata": {},
   "source": [
    "Q56. By default, pandas uses 0-based indices for indexing rows. Which\n",
    "is the correct way to import the CSV file hrdata.csv\n",
    "for reading and using the 'Name' column as the index row instead?\n",
    "Below is the contents of hrdata.csv\n",
    "Name,Hire Date,Salary,Sick Days remaining\n",
    "Fred,10/10/10,10000,10"
   ]
  },
  {
   "cell_type": "code",
   "execution_count": null,
   "metadata": {},
   "outputs": [],
   "source": [
    "a) pandas.read_csv('hrdata.csv', index_col='Name')"
   ]
  },
  {
   "cell_type": "markdown",
   "metadata": {},
   "source": [
    "Q57. Given the file dog_breeds.txt, which of the following is the correct\n",
    "way to open the file for reading as a text file? Select all that apply."
   ]
  },
  {
   "cell_type": "code",
   "execution_count": null,
   "metadata": {},
   "outputs": [],
   "source": [
    "b) open('dog_breeds.txt', 'r')\n",
    "c) open('dog_breeds.txt')"
   ]
  },
  {
   "cell_type": "markdown",
   "metadata": {},
   "source": [
    "Q58. Given the following directory structure:\n",
    "animals/\n",
    "│\n",
    "├── feline/\n",
    "│ ├── lions.gif\n",
    "│ └── tigers.gif\n",
    "│\n",
    "├── ursine/\n",
    "│ └── bears.gif\n",
    "│\n",
    "└── animals.csv\n",
    "Assuming that the cwd is in the root folder where animals reside, what is the full path to\n",
    "the feline folder?\n"
   ]
  },
  {
   "cell_type": "code",
   "execution_count": null,
   "metadata": {},
   "outputs": [],
   "source": [
    "Import os \n",
    "os.chdir(‘cwd\\\\Animals\\\\feline’) \n",
    "os.getcwd() "
   ]
  },
  {
   "cell_type": "markdown",
   "metadata": {},
   "source": [
    "Q59. Given the file jack_russell.png, which of the following is the correct\n",
    "way to open the file for reading as a buffered binary file? Select\n",
    "all that apply."
   ]
  },
  {
   "cell_type": "code",
   "execution_count": null,
   "metadata": {},
   "outputs": [],
   "source": [
    "open('jack_russell.png', 'rb')"
   ]
  },
  {
   "cell_type": "markdown",
   "metadata": {},
   "source": [
    "Q60. Using the same directory structure as before:\n",
    "animals/\n",
    "│\n",
    "├── feline/\n",
    "│ ├── lions.gif\n",
    "│ └── tigers.gif\n",
    "P a g e 20 | 37\n",
    "│\n",
    "├── ursine/\n",
    "│ └── bears.gif\n",
    "│\n",
    "└── animals.csv\n",
    "Assuming that the cwd is in the root folder where Animals reside, what is the full path to\n",
    "the file bears.gif?\n"
   ]
  },
  {
   "cell_type": "code",
   "execution_count": null,
   "metadata": {},
   "outputs": [],
   "source": [
    "Import os \n",
    "os.chdir(‘cwd\\\\Animals\\\\ursine’) \n",
    "os.getcwd() "
   ]
  },
  {
   "cell_type": "markdown",
   "metadata": {},
   "source": [
    "Q61. Whenever possible, what is the recommended way to ensure that\n",
    "a file object is properly closed after usage?"
   ]
  },
  {
   "cell_type": "code",
   "execution_count": null,
   "metadata": {},
   "outputs": [],
   "source": [
    "c) By using the try/finally block"
   ]
  },
  {
   "cell_type": "markdown",
   "metadata": {},
   "source": [
    "Q62. Using the same directory structure as before: Assuming that the cwd is in the feline folder, what is the relative path to the\n",
    "file bears.gif?\n"
   ]
  },
  {
   "cell_type": "code",
   "execution_count": null,
   "metadata": {},
   "outputs": [],
   "source": [
    "Import os \n",
    "os.path.relpath(‘..\\\\..feline’, ‘animals\\\\ursine\\\\bears.gif ’) \n",
    "os.getcwd() "
   ]
  },
  {
   "cell_type": "markdown",
   "metadata": {},
   "source": [
    "Q63. When reading a file using the file object, what method is best for\n",
    "reading the entire file into a single string?\n",
    "a) .read_file_to_str()\n",
    "b) .read()\n",
    "c) .readlines()\n",
    "d) .readline()"
   ]
  },
  {
   "cell_type": "code",
   "execution_count": null,
   "metadata": {},
   "outputs": [],
   "source": [
    "c) .readlines()"
   ]
  },
  {
   "cell_type": "markdown",
   "metadata": {},
   "source": [
    "Q64. The value 1.73 rounded to one decimal place using the “rounding\n",
    "up” strategy is…\n",
    "a) 1.8\n",
    "b) 1.7"
   ]
  },
  {
   "cell_type": "code",
   "execution_count": null,
   "metadata": {},
   "outputs": [],
   "source": [
    "a) 1.8"
   ]
  },
  {
   "cell_type": "markdown",
   "metadata": {},
   "source": [
    "Q65. The value -2.961 rounded to two decimal places using the\n",
    "“rounding down” strategy is…\n",
    "a) -2.96\n",
    "b) -2.97\n"
   ]
  },
  {
   "cell_type": "code",
   "execution_count": null,
   "metadata": {},
   "outputs": [],
   "source": [
    "b) -2.97"
   ]
  },
  {
   "cell_type": "markdown",
   "metadata": {},
   "source": [
    "Q66. When a value is truncated to 3 decimal places, which of the\n",
    "following is true?"
   ]
  },
  {
   "cell_type": "markdown",
   "metadata": {},
   "source": [
    "Q66. When a value is truncated to 3 decimal places, which of the\n",
    "following is true?"
   ]
  },
  {
   "cell_type": "code",
   "execution_count": null,
   "metadata": {},
   "outputs": [],
   "source": [
    "b) Positive numbers are rounded down, and negative numbers are rounded up."
   ]
  },
  {
   "cell_type": "markdown",
   "metadata": {},
   "source": [
    "Q67. The value -0.045 rounded to 2 decimal places using the “round half\n",
    "away from zero” strategy is…\n",
    "a) -0.05\n",
    "b) -0.04"
   ]
  },
  {
   "cell_type": "code",
   "execution_count": null,
   "metadata": {},
   "outputs": [],
   "source": [
    "a) -0.05"
   ]
  },
  {
   "cell_type": "markdown",
   "metadata": {},
   "source": [
    "Q68. Which rounding strategy does Python’s built-in round() function\n",
    "use?\n"
   ]
  },
  {
   "cell_type": "code",
   "execution_count": null,
   "metadata": {},
   "outputs": [],
   "source": [
    "d) Round half to even"
   ]
  },
  {
   "cell_type": "markdown",
   "metadata": {},
   "source": [
    "Q69. The value 4.65 rounded to one decimal place using the “round half\n",
    "to even” strategy is…\n",
    "a) 4.6\n",
    "b) 4.7"
   ]
  },
  {
   "cell_type": "code",
   "execution_count": null,
   "metadata": {},
   "outputs": [],
   "source": [
    " a) 4.6 "
   ]
  },
  {
   "cell_type": "markdown",
   "metadata": {},
   "source": [
    "Q70. Which problem arises due to the multiple inheritances, if\n",
    "hierarchical inheritance is used previously for its base classes?\n",
    "a) Diamond\n",
    "b) Circle\n",
    "c) Triangle\n",
    "d) Loop\n"
   ]
  },
  {
   "cell_type": "code",
   "execution_count": null,
   "metadata": {},
   "outputs": [],
   "source": [
    "a) Diamond"
   ]
  },
  {
   "cell_type": "markdown",
   "metadata": {},
   "source": [
    "Q71. How many classes should a program contain to implement the\n",
    "multiple inheritances?\n",
    "a) Only 1\n",
    "b) At least 1\n",
    "c) At least 3\n",
    "d) Exactly 3"
   ]
  },
  {
   "cell_type": "code",
   "execution_count": null,
   "metadata": {},
   "outputs": [],
   "source": [
    "c) At least 3"
   ]
  },
  {
   "cell_type": "markdown",
   "metadata": {},
   "source": [
    "Q72. If class a inherits class b and class c as “class a: public class b,\n",
    "public class c {// class body ;}; ”, which class constructor will be\n",
    "called first?\n",
    "a) Class a.\n",
    "b) Class b.\n",
    "c) Class c.\n",
    "d) All together."
   ]
  },
  {
   "cell_type": "code",
   "execution_count": null,
   "metadata": {},
   "outputs": [],
   "source": [
    "b) Class B"
   ]
  },
  {
   "cell_type": "markdown",
   "metadata": {},
   "source": [
    "Q73.If all the members of all base classes are private then,\n",
    "a) There won’t be any use of multiple inheritance\n",
    "b) It will make all members as public.\n",
    "c) Derived class can still access them in the multiple inheritance\n",
    "d) Compile-time error"
   ]
  },
  {
   "cell_type": "code",
   "execution_count": null,
   "metadata": {},
   "outputs": [],
   "source": [
    "a) There won’t be any use of multiple inheritance"
   ]
  },
  {
   "cell_type": "markdown",
   "metadata": {},
   "source": [
    "Q74. Can the derived class be made abstract if multiple inheritance is\n",
    "used?"
   ]
  },
  {
   "cell_type": "code",
   "execution_count": null,
   "metadata": {},
   "outputs": [],
   "source": [
    "b) Yes, if all the functions are implemented"
   ]
  },
  {
   "cell_type": "markdown",
   "metadata": {},
   "source": [
    "Q75. Which among the following best defines the multilevel inheritance?"
   ]
  },
  {
   "cell_type": "code",
   "execution_count": null,
   "metadata": {},
   "outputs": [],
   "source": [
    "b) Classes being derived from other derived classes"
   ]
  },
  {
   "cell_type": "markdown",
   "metadata": {},
   "source": [
    "Q76. If there are 5 classes, E is derived from D, D from C, C from B and\n",
    "B from A. Which class constructor will be called first if the object of\n",
    "E or D is created?"
   ]
  },
  {
   "cell_type": "code",
   "execution_count": null,
   "metadata": {},
   "outputs": [],
   "source": [
    "a) A"
   ]
  },
  {
   "cell_type": "markdown",
   "metadata": {},
   "source": [
    "Q77. Which Class is having the highest degree of abstraction in\n",
    "multilevel inheritance of 5 levels?\n"
   ]
  },
  {
   "cell_type": "code",
   "execution_count": null,
   "metadata": {},
   "outputs": [],
   "source": [
    "a) Class at 1st level"
   ]
  },
  {
   "cell_type": "markdown",
   "metadata": {},
   "source": [
    "Q78. Multilevel inheritance allows _________________ in the program.\n",
    "a) Only 7 levels of inheritance\n",
    "b) At least 7 levels of inheritance\n",
    "c) At most 16 levels of inheritance\n",
    "d) As many levels of inheritance as required"
   ]
  },
  {
   "cell_type": "code",
   "execution_count": null,
   "metadata": {},
   "outputs": [],
   "source": [
    "d) As many levels of inheritance as required"
   ]
  },
  {
   "cell_type": "markdown",
   "metadata": {},
   "source": [
    "Q79. If all the classes used parameterized constructors and no default\n",
    "constructor then, ___________"
   ]
  },
  {
   "cell_type": "code",
   "execution_count": null,
   "metadata": {},
   "outputs": [],
   "source": [
    "b) Object of lower-level classes must call parent class constructors explicitly"
   ]
  },
  {
   "cell_type": "markdown",
   "metadata": {},
   "source": [
    "Q80. Which is the universal exception handler class?\n",
    "a) Object\n",
    "b) Math\n",
    "c) Errors\n",
    "d) Exceptions"
   ]
  },
  {
   "cell_type": "code",
   "execution_count": null,
   "metadata": {},
   "outputs": [],
   "source": [
    "d) Exceptions"
   ]
  },
  {
   "cell_type": "markdown",
   "metadata": {},
   "source": [
    "Q81. What are two exception classes in the hierarchy of java exceptions\n",
    "class?"
   ]
  },
  {
   "cell_type": "code",
   "execution_count": null,
   "metadata": {},
   "outputs": [],
   "source": [
    "c) Runtime exceptions and other exceptions"
   ]
  },
  {
   "cell_type": "markdown",
   "metadata": {},
   "source": [
    "Q82. Which are the two blocks that are used to check error and handle\n",
    "the error?"
   ]
  },
  {
   "cell_type": "code",
   "execution_count": null,
   "metadata": {},
   "outputs": [],
   "source": [
    "a) Try and catch"
   ]
  },
  {
   "cell_type": "markdown",
   "metadata": {},
   "source": [
    "Q83. To catch the exceptions ____________"
   ]
  },
  {
   "cell_type": "code",
   "execution_count": null,
   "metadata": {},
   "outputs": [],
   "source": [
    "a) An object must be created to catch the exception"
   ]
  },
  {
   "cell_type": "markdown",
   "metadata": {},
   "source": [
    "Q84. Which class is used to handle the input and output exceptions?"
   ]
  },
  {
   "cell_type": "code",
   "execution_count": null,
   "metadata": {},
   "outputs": [],
   "source": [
    "c) IOExceptions"
   ]
  },
  {
   "cell_type": "markdown",
   "metadata": {},
   "source": [
    "Q85. Which among the following is true for the class exceptions?\n",
    "a) Only base class can give rise to the exceptions\n",
    "b) Only derived class can give rise to exceptions\n",
    "c) Either base or derived class may produce exceptions\n",
    "d) Both base class and derived class may produce exceptions"
   ]
  },
  {
   "cell_type": "code",
   "execution_count": null,
   "metadata": {},
   "outputs": [],
   "source": [
    "d) Both base class and derived class may produce exceptions"
   ]
  },
  {
   "cell_type": "markdown",
   "metadata": {},
   "source": [
    "Q86. If both base and derived class caught the exceptions, _____."
   ]
  },
  {
   "cell_type": "code",
   "execution_count": null,
   "metadata": {},
   "outputs": [],
   "source": [
    "a) Then catch block of a derived class must be defined before the base class"
   ]
  },
  {
   "cell_type": "markdown",
   "metadata": {},
   "source": [
    "Q87. The catching of base class the exception _________ in java.\n",
    "a) After derived class is not allowed by the compiler\n",
    "b) Before derived class is not allowed by the compiler\n",
    "c) Before derived class is allowed\n",
    "d) After derived class can’t be done"
   ]
  },
  {
   "cell_type": "code",
   "execution_count": null,
   "metadata": {},
   "outputs": [],
   "source": [
    "b) Before derived class is not allowed by the compiler"
   ]
  },
  {
   "cell_type": "markdown",
   "metadata": {},
   "source": [
    "Q88. Which of the following handles the undefined class in the\n",
    "program?\n",
    "a) ClassNotFound\n",
    "b) NoClassException\n",
    "c) ClassFoundException\n",
    "d) ClassNotFoundException"
   ]
  },
  {
   "cell_type": "code",
   "execution_count": null,
   "metadata": {},
   "outputs": [],
   "source": [
    "d) ClassNotFoundException"
   ]
  },
  {
   "cell_type": "markdown",
   "metadata": {},
   "source": [
    "Q89. Which among the following is true?\n",
    "a) Only the base class catch the blocks are important.\n",
    "b) Only the derived class catch blocks are important.\n",
    "c) Both the base and derived class catch the blocks are important.\n",
    "d) If the base and derived classes both produce exceptions, the program doesn’t run."
   ]
  },
  {
   "cell_type": "code",
   "execution_count": null,
   "metadata": {},
   "outputs": [],
   "source": [
    "c) Both the base and derived class catch the blocks are important"
   ]
  },
  {
   "cell_type": "markdown",
   "metadata": {},
   "source": [
    "Q90. Which condition among the following might result in memory\n",
    "exception?\n",
    "a) False if conditions\n",
    "b) Nested if conditions that are all false\n",
    "c) Infinite loops\n",
    "d) The loop that runs exactly 99 times"
   ]
  },
  {
   "cell_type": "code",
   "execution_count": null,
   "metadata": {},
   "outputs": [],
   "source": [
    "c) Infinite loops "
   ]
  },
  {
   "cell_type": "markdown",
   "metadata": {},
   "source": [
    "Q91. Which among the following is the correct definition for static\n",
    "member functions?"
   ]
  },
  {
   "cell_type": "code",
   "execution_count": null,
   "metadata": {},
   "outputs": [],
   "source": [
    "b) Functions made to maintain a single copy of member functions for all the objects"
   ]
  },
  {
   "cell_type": "markdown",
   "metadata": {},
   "source": [
    "Q92. The static member functions __________________\n",
    "a) Having access to all the members of the class.\n",
    "b) Having access to only constant members of a class.\n",
    "c) Having access to only the static members of a class.\n",
    "d) Having direct access to all other class members also."
   ]
  },
  {
   "cell_type": "code",
   "execution_count": null,
   "metadata": {},
   "outputs": [],
   "source": [
    " c) Having access to only the static members of a class."
   ]
  },
  {
   "cell_type": "markdown",
   "metadata": {},
   "source": [
    "Q93. Which is the correct syntax to access the static member functions\n",
    "with a class name?\n",
    "a) className . functionName;\n",
    "b) className -> functionName;\n",
    "c) className : functionName;\n",
    "d) className :: functionName;"
   ]
  },
  {
   "cell_type": "code",
   "execution_count": null,
   "metadata": {},
   "outputs": [],
   "source": [
    "d) className :: functionName;"
   ]
  },
  {
   "cell_type": "markdown",
   "metadata": {},
   "source": [
    "Q94. The static members are ______________________\n",
    "a) Created with each new object.\n",
    "b) Created twice in the program.\n",
    "P a g e 27 | 37\n",
    "c) Created as many times, the class is being used.\n",
    "d) Created and initialised, only once"
   ]
  },
  {
   "cell_type": "code",
   "execution_count": null,
   "metadata": {},
   "outputs": [],
   "source": [
    "d) Created and initialised, only once"
   ]
  },
  {
   "cell_type": "markdown",
   "metadata": {},
   "source": [
    "Q95. Which among the following is true?\n",
    "a) Static member functions can be overloaded.\n",
    "b) Static member functions can’t be overloaded.\n",
    "c) Static member functions can be overloaded using the derived classes.\n",
    "d) Static member functions are implicitly overloaded"
   ]
  },
  {
   "cell_type": "code",
   "execution_count": null,
   "metadata": {},
   "outputs": [],
   "source": [
    "b) Static member functions can’t be overloaded"
   ]
  },
  {
   "cell_type": "markdown",
   "metadata": {},
   "source": [
    "Q96. The static member functions _______________\n",
    "a) Can’t be declared const.\n",
    "b) Can’t be declared volatile.\n",
    "c) Can’t be declared const or volatile.\n",
    "d) Can’t be declared const, volatile, or constant volatile."
   ]
  },
  {
   "cell_type": "code",
   "execution_count": null,
   "metadata": {},
   "outputs": [],
   "source": [
    "d) Can’t be declared const, volatile, or constant volatile."
   ]
  },
  {
   "cell_type": "markdown",
   "metadata": {},
   "source": [
    "Q97. Which among the following can’t be used to access the members\n",
    "in anyway?\n",
    "a) Scope resolution.\n",
    "b) Arrow operator.\n",
    "c) Single colon.\n",
    "d) Dot operator"
   ]
  },
  {
   "cell_type": "code",
   "execution_count": null,
   "metadata": {},
   "outputs": [],
   "source": [
    "c) Single colon"
   ]
  },
  {
   "cell_type": "markdown",
   "metadata": {},
   "source": [
    "Q98. If static data member are made inline, ______________\n",
    "a) Those should be initialised outside of the class.\n",
    "b) Those can’t be initialised with the class.\n",
    "c) Those can be initialised within the class.\n",
    "d) Class members can't use those"
   ]
  },
  {
   "cell_type": "code",
   "execution_count": null,
   "metadata": {},
   "outputs": [],
   "source": [
    "c) Those can be initialised within the class."
   ]
  },
  {
   "cell_type": "markdown",
   "metadata": {},
   "source": [
    "Q99. The static data member _________________\n",
    "a) It can be mutable.\n",
    "b) Can’t be mutable.\n",
    "c) Can’t be an integer.\n",
    "d) Can’t be characters."
   ]
  },
  {
   "cell_type": "code",
   "execution_count": null,
   "metadata": {},
   "outputs": [],
   "source": [
    "b) Can’t be mutable."
   ]
  },
  {
   "cell_type": "markdown",
   "metadata": {},
   "source": [
    "Q100. We can use the static member functions and static data member\n",
    "__________________.\n",
    "a) Even if a class object is not created\n",
    "b) Even if a class is not defined\n",
    "c) Even if a class doesn’t contain any static member\n",
    "d) Even if a class doesn’t have a complete definition"
   ]
  },
  {
   "cell_type": "code",
   "execution_count": null,
   "metadata": {},
   "outputs": [],
   "source": [
    "a) Even if class object is not created"
   ]
  },
  {
   "cell_type": "markdown",
   "metadata": {},
   "source": [
    "Q101. Point out the wrong statement:\n",
    "a) ipython is an enhanced interactive python shell.\n",
    "b) Matplotlib: It enables us to plot graphics.\n",
    "c) rPy provides lots of scientific routines that work on top of NumPy.\n",
    "d) all of the mentioned."
   ]
  },
  {
   "cell_type": "code",
   "execution_count": null,
   "metadata": {},
   "outputs": [],
   "source": [
    "c) rPy provides lots of scientific routines that work on top of NumPy."
   ]
  },
  {
   "cell_type": "markdown",
   "metadata": {},
   "source": [
    "Q102. The ________ function returns its argument with the modified\n",
    " shape, whereas the ________ method modifies the array itself.\n",
    "a) reshape, resize.\n",
    "b) resize, reshape.\n",
    "c) reshape2,resize.\n",
    "d) all of the mentioned"
   ]
  },
  {
   "cell_type": "code",
   "execution_count": null,
   "metadata": {},
   "outputs": [],
   "source": [
    "a) reshape, resize"
   ]
  },
  {
   "cell_type": "markdown",
   "metadata": {},
   "source": [
    "Q103. To create sequences of the numbers, NumPy provides a function\n",
    "__________ analogous to range that returns arrays instead of lists.\n",
    "a) arrange.\n",
    "b) aspace.\n",
    "c) aline.\n",
    "d) all of the mentioned"
   ]
  },
  {
   "cell_type": "code",
   "execution_count": null,
   "metadata": {},
   "outputs": [],
   "source": [
    "a) arrange."
   ]
  },
  {
   "cell_type": "markdown",
   "metadata": {},
   "source": [
    "Q104. Point out the correct statement:\n",
    "a) NumPy main object is the Homogeneous -Multidimensional array.\n",
    "b) In Numpy, dimensions are called axes.\n",
    "c) Numpy array class is called ndarray.\n",
    "d) All of the Mentioned\n"
   ]
  },
  {
   "cell_type": "code",
   "execution_count": null,
   "metadata": {},
   "outputs": [],
   "source": [
    "d) All of the Mentioned"
   ]
  },
  {
   "cell_type": "markdown",
   "metadata": {},
   "source": [
    "Q105. Which of the following function stack 1D array as the\n",
    "columns into the 2D array?\n",
    "a) row_stack.\n",
    "b) column_stack.\n",
    "c) com_stack.\n",
    "d) all of the mentioned"
   ]
  },
  {
   "cell_type": "code",
   "execution_count": null,
   "metadata": {},
   "outputs": [],
   "source": [
    "b) column_stack"
   ]
  },
  {
   "cell_type": "markdown",
   "metadata": {},
   "source": [
    "Q106. ndarray is also known as an alias array.\n",
    "a) True\n",
    "b) False"
   ]
  },
  {
   "cell_type": "code",
   "execution_count": null,
   "metadata": {},
   "outputs": [],
   "source": [
    "a) True"
   ]
  },
  {
   "cell_type": "markdown",
   "metadata": {},
   "source": [
    "Q107. Which of the following method creates the new array object that\n",
    "looks at the same data?\n",
    "a) view.\n",
    "b) copy.\n",
    "c) paste.\n",
    "d) all of the mentioned."
   ]
  },
  {
   "cell_type": "code",
   "execution_count": null,
   "metadata": {},
   "outputs": [],
   "source": [
    "a) view"
   ]
  },
  {
   "cell_type": "markdown",
   "metadata": {},
   "source": [
    "Q108. Which of the functions can be used to combine the\n",
    "different vectors to obtain the result for each n-uplet?\n",
    "a) iid_.\n",
    "b) ix_.\n",
    "c) ixd_.\n",
    "d) all of the mentioned."
   ]
  },
  {
   "cell_type": "code",
   "execution_count": null,
   "metadata": {},
   "outputs": [],
   "source": [
    "b) ix_"
   ]
  },
  {
   "cell_type": "markdown",
   "metadata": {},
   "source": [
    "Q109. ndarray.dataitemSize is the buffer containing actual elements\n",
    "of an array.\n",
    "a) True\n",
    "b) False"
   ]
  },
  {
   "cell_type": "code",
   "execution_count": null,
   "metadata": {},
   "outputs": [],
   "source": [
    "a) True"
   ]
  },
  {
   "cell_type": "markdown",
   "metadata": {},
   "source": [
    "Q110. Which of the following is in the NumPy library?\n",
    "a) The n-dimensional array object\n",
    "b) The tools for integrating C/C++ and the Fortran code\n",
    "c) Fourier transform\n",
    "d) all of the Mentioned"
   ]
  },
  {
   "cell_type": "code",
   "execution_count": null,
   "metadata": {},
   "outputs": [],
   "source": [
    "d) all of the Mentioned"
   ]
  },
  {
   "cell_type": "markdown",
   "metadata": {},
   "source": [
    "Q111. Which of the following sets the size of the buffer used in ufuncs ?\n",
    "a) bufsize(size)\n",
    "b) setsize(size)\n",
    "c) setbufsize(size)\n",
    "d) all of the Mentioned"
   ]
  },
  {
   "cell_type": "code",
   "execution_count": null,
   "metadata": {},
   "outputs": [],
   "source": [
    "c) setbufsize(size)"
   ]
  },
  {
   "cell_type": "markdown",
   "metadata": {},
   "source": [
    "Q112. Point out the wrong statement:\n",
    "a) A universal function is the function that operates upon the “ndarrays” in an\n",
    "element-by-element fashion\n",
    "b) In Numpy, universal functions are the instances of numpy.ufunction class\n",
    "c) Many of the built-in functions are implemented in compiled C code\n",
    "d) All of the Mentioned"
   ]
  },
  {
   "cell_type": "code",
   "execution_count": null,
   "metadata": {},
   "outputs": [],
   "source": [
    "b) In Numpy, universal functions are the instances of numpy.ufunction class"
   ]
  },
  {
   "cell_type": "markdown",
   "metadata": {},
   "source": [
    "Q113. Which of the following attribute should be used while checking the\n",
    "type combination input and output?\n",
    "a) .types\n",
    "b) .type\n",
    "c) .class\n",
    "d) all of the Mentioned"
   ]
  },
  {
   "cell_type": "code",
   "execution_count": null,
   "metadata": {},
   "outputs": [],
   "source": [
    "a) .types"
   ]
  },
  {
   "cell_type": "markdown",
   "metadata": {},
   "source": [
    "Q114. Which of the following returns an array of “ones” with the same\n",
    "shape and type as a given array?\n",
    "a) all_like\n",
    "b) ones_like\n",
    "c) one_alike\n",
    "d) all of the Mentioned"
   ]
  },
  {
   "cell_type": "code",
   "execution_count": null,
   "metadata": {},
   "outputs": [],
   "source": [
    "b) ones_like"
   ]
  },
  {
   "cell_type": "markdown",
   "metadata": {},
   "source": [
    "Q115. Point out the wrong statement:\n",
    "a) Each universal function takes an array input and produces array outputs\n",
    "b) Broadcasting is used throughout NumPy to decide how to handle the disparately \n",
    "shaped arrays\n",
    "c) The output of the ufunc is necessarily a ndarray, if all the input arguments are\n",
    "ndarrays\n",
    "d) All of the Mentioned"
   ]
  },
  {
   "cell_type": "code",
   "execution_count": null,
   "metadata": {},
   "outputs": [],
   "source": [
    "c) The output of the ufunc is necessarily an ndarray, if all input arguments are ndarrays"
   ]
  },
  {
   "cell_type": "markdown",
   "metadata": {},
   "source": [
    "Q116. Which of the following set of a floating-point error callback\n",
    "function or a log object?\n",
    "a) setter.\n",
    "b) settercall.\n",
    "c) setterstack.\n",
    "d) all of the mentioned.\n"
   ]
  },
  {
   "cell_type": "code",
   "execution_count": null,
   "metadata": {},
   "outputs": [],
   "source": [
    " b) settercall"
   ]
  },
  {
   "cell_type": "markdown",
   "metadata": {},
   "source": [
    "Q117. Some ufuncs can take output arguments.\n",
    "a) True\n",
    "b) False"
   ]
  },
  {
   "cell_type": "code",
   "execution_count": null,
   "metadata": {},
   "outputs": [],
   "source": [
    "b) False"
   ]
  },
  {
   "cell_type": "markdown",
   "metadata": {},
   "source": [
    "Q118. ___________ decompose the elements of x into the\n",
    "mantissa and the two’s exponent.\n",
    "a) trunc\n",
    "b) fmod\n",
    "c) frexp\n",
    "d) ldexp"
   ]
  },
  {
   "cell_type": "code",
   "execution_count": null,
   "metadata": {},
   "outputs": [],
   "source": [
    "c) frexp"
   ]
  },
  {
   "cell_type": "markdown",
   "metadata": {},
   "source": [
    "Q119. Which of the following function take the only a single value as\n",
    "input?\n",
    "a) iscomplex.\n",
    "b) minimum.\n",
    "c) fmin.\n",
    "d) all of the mentioned."
   ]
  },
  {
   "cell_type": "code",
   "execution_count": null,
   "metadata": {},
   "outputs": [],
   "source": [
    "a) iscomplex."
   ]
  },
  {
   "cell_type": "markdown",
   "metadata": {},
   "source": [
    "Q120. The array object returned by the _array_prepare_ is passed to\n",
    " ufunc for computation.\n",
    "a) True\n",
    "b) False"
   ]
  },
  {
   "cell_type": "code",
   "execution_count": null,
   "metadata": {},
   "outputs": [],
   "source": [
    "a) True"
   ]
  },
  {
   "cell_type": "markdown",
   "metadata": {},
   "source": [
    "Q121. All pandas data structures are ___mutable but not always\n",
    "_______-mutable.\n",
    "a) size,value.\n",
    "b) semantic,size.\n",
    "c) value,size.\n",
    "d) none of the mentioned."
   ]
  },
  {
   "cell_type": "code",
   "execution_count": null,
   "metadata": {},
   "outputs": [],
   "source": [
    "c) value, size"
   ]
  },
  {
   "cell_type": "markdown",
   "metadata": {},
   "source": [
    "Q122. Point out the correct statement:\n",
    "a) Pandas consist of a set of the labelled array data structures\n",
    "b) Pandas consist of an integrated group by the engine for aggregating and the\n",
    "transforming data sets\n",
    "c) Pandas consist of moving window statistics\n",
    "d) All of the above mentioned."
   ]
  },
  {
   "cell_type": "code",
   "execution_count": null,
   "metadata": {},
   "outputs": [],
   "source": [
    "d) All of the above mentioned"
   ]
  },
  {
   "cell_type": "markdown",
   "metadata": {},
   "source": [
    "Q123. Which of the following statement will import the pandas?\n",
    "a) import pandas as pd\n",
    "b) import panda as py\n",
    "c) import pandaspy as pd\n",
    "d) all of the Mentioned"
   ]
  },
  {
   "cell_type": "code",
   "execution_count": null,
   "metadata": {},
   "outputs": [],
   "source": [
    "a) import pandas as pd "
   ]
  },
  {
   "cell_type": "markdown",
   "metadata": {},
   "source": [
    "Q124. Which of the following object did we get after reading the CSV\n",
    "file?\n",
    "a) DataFrame.\n",
    "b) Character Vector.\n",
    "c) Panel.\n",
    "d) All of the Mentioned"
   ]
  },
  {
   "cell_type": "code",
   "execution_count": null,
   "metadata": {},
   "outputs": [],
   "source": [
    "a) DataFrame"
   ]
  },
  {
   "cell_type": "markdown",
   "metadata": {},
   "source": [
    "Q125. Point out the wrong statement:\n",
    "a) Series is 1D labelled homogeneously-typed array.\n",
    "b) DataFrame is a general 2D labelled, size-mutable tabular structure with the\n",
    "potentially heterogeneously-typed columns.\n",
    "c) The panel is generally 2D labelled, also a size-mutable array.\n",
    "d) None of the Mentioned."
   ]
  },
  {
   "cell_type": "code",
   "execution_count": null,
   "metadata": {},
   "outputs": [],
   "source": [
    "c) The panel is generally 2D labelled, also a size-mutable array."
   ]
  },
  {
   "cell_type": "markdown",
   "metadata": {},
   "source": [
    "Q126. Which of the following library is similar to the pandas?\n",
    "a) numpy.\n",
    "b) RPy.\n",
    "c) OutPy.\n",
    "d) None of the mentioned."
   ]
  },
  {
   "cell_type": "code",
   "execution_count": null,
   "metadata": {},
   "outputs": [],
   "source": [
    "a) numpy."
   ]
  },
  {
   "cell_type": "markdown",
   "metadata": {},
   "source": [
    "Q127. Panel is a container for the Series, and DataFrame is a\n",
    "container for DataFrame objects.\n",
    "a) True\n",
    "b) False"
   ]
  },
  {
   "cell_type": "code",
   "execution_count": null,
   "metadata": {},
   "outputs": [],
   "source": [
    "b) False"
   ]
  },
  {
   "cell_type": "markdown",
   "metadata": {},
   "source": [
    "Q128. Which of the following is the prominent python “statistics and\n",
    "econometrics library”?\n",
    "a) Bokeh.\n",
    "b) Seaborn.\n",
    "c) Statsmodels.\n",
    "d) None of the mentioned"
   ]
  },
  {
   "cell_type": "code",
   "execution_count": null,
   "metadata": {},
   "outputs": [],
   "source": [
    "c) Statsmodels."
   ]
  },
  {
   "cell_type": "markdown",
   "metadata": {},
   "source": [
    "Q129. Which of the following is the foundational exploratory visualisation\n",
    "package for the R language in the pandas ecosystem?\n",
    "a) yhat.\n",
    "b) Seaborn.\n",
    "c) Vincent.\n",
    "d) None of the mentioned."
   ]
  },
  {
   "cell_type": "code",
   "execution_count": null,
   "metadata": {},
   "outputs": [],
   "source": [
    "a) yhat."
   ]
  },
  {
   "cell_type": "markdown",
   "metadata": {},
   "source": [
    "Q130. Pandas consist of static and the moving window linear and panel\n",
    "regression.\n",
    "a) True\n",
    "b) False"
   ]
  },
  {
   "cell_type": "code",
   "execution_count": null,
   "metadata": {},
   "outputs": [],
   "source": [
    "a) True"
   ]
  },
  {
   "cell_type": "markdown",
   "metadata": {},
   "source": [
    "Q131. Quandl API for Python wraps the __ REST API to\n",
    "returns the pandas DataFrames with time series indexes.\n",
    "a) Quandl.\n",
    "b) PyDatastream.\n",
    "c) PyData.\n",
    "d) None of the Mentioned"
   ]
  },
  {
   "cell_type": "code",
   "execution_count": null,
   "metadata": {},
   "outputs": [],
   "source": [
    "a) Quandl"
   ]
  },
  {
   "cell_type": "markdown",
   "metadata": {},
   "source": [
    "Q132. Point out the correct statement:\n",
    "a) Statsmodels provides powerful statistics, econometrics, analysis and the\n",
    "modelling functionality which is out of pandas’ scope\n",
    "b) Vintage leverages pandas objects as an underlying data container for the\n",
    "computation\n",
    "c) Bokeh is a Python interactive visualisation library for the small datasets\n",
    "d) All of the Mentioned"
   ]
  },
  {
   "cell_type": "code",
   "execution_count": null,
   "metadata": {},
   "outputs": [],
   "source": [
    "a) Statsmodels provides powerful statistics, econometrics, analysis and the modelling functionality which is out of pandas’ scope"
   ]
  },
  {
   "cell_type": "markdown",
   "metadata": {},
   "source": [
    "Q133.Which of the following library is used to retrieve and to acquire\n",
    "statistical data and metadata disseminated in SDMX 2.1?\n",
    "a) pandaSDMX\n",
    "b) freedapi\n",
    "c) Geopandas.\n",
    "d) All of the Mentioned"
   ]
  },
  {
   "cell_type": "code",
   "execution_count": null,
   "metadata": {},
   "outputs": [],
   "source": [
    "a) pandaSDMX"
   ]
  },
  {
   "cell_type": "markdown",
   "metadata": {},
   "source": [
    "Q134. Which of the following provides the standard API for doing\n",
    "computations with MongoDB?\n",
    "a) Blaze.\n",
    "b) Geopandas.\n",
    "c) FRED.\n",
    "d) All of the Mentioned."
   ]
  },
  {
   "cell_type": "code",
   "execution_count": null,
   "metadata": {},
   "outputs": [],
   "source": [
    "a) Blaze"
   ]
  },
  {
   "cell_type": "markdown",
   "metadata": {},
   "source": [
    "Q135. Point out the wrong statement:\n",
    "a) qgrid is an interactive grid for sorting and the filtering DataFrames\n",
    "b) Pandas DataFrames implement _repr_html_ methods which are utilised by the\n",
    "IPython Notebook\n",
    "c) Spyder is a cross-platform Qt-based open-source R IDE\n",
    "d) None of the Mentioned"
   ]
  },
  {
   "cell_type": "code",
   "execution_count": null,
   "metadata": {},
   "outputs": [],
   "source": [
    "c) Spyder is a cross-platform Qt-based open-source R IDE"
   ]
  },
  {
   "cell_type": "markdown",
   "metadata": {},
   "source": [
    "Q136. Which of the following makes use of the pandas and returns\n",
    "data in a Series or DataFrame?\n",
    "a) pandaSDMX.\n",
    "b) freedapi.\n",
    "c) OutPy.\n",
    "d) none of the mentioned"
   ]
  },
  {
   "cell_type": "code",
   "execution_count": null,
   "metadata": {},
   "outputs": [],
   "source": [
    "b) freedapi"
   ]
  },
  {
   "cell_type": "markdown",
   "metadata": {},
   "source": [
    "Q137. Spyder can introspect and display Pandas DataFrames.\n",
    "a) True\n",
    "b) False"
   ]
  },
  {
   "cell_type": "code",
   "execution_count": null,
   "metadata": {},
   "outputs": [],
   "source": [
    "b) False"
   ]
  },
  {
   "cell_type": "markdown",
   "metadata": {},
   "source": [
    "Q138. Which of the following is used for machine learning in the python?\n",
    "a) sci-kit-learn.\n",
    "b) seaborn-learn.\n",
    "c) stats-learn.\n",
    "d) none of the mentioned."
   ]
  },
  {
   "cell_type": "code",
   "execution_count": null,
   "metadata": {},
   "outputs": [],
   "source": [
    "a) sci-kit-learn."
   ]
  },
  {
   "cell_type": "markdown",
   "metadata": {},
   "source": [
    "Q139. The ________ project builds on top of the pandas and matplotlib\n",
    "to provide easy plotting of data.\n",
    "a) yhat.\n",
    "b) Seaborn.\n",
    "c) Vincent.\n",
    "d) None of the mentioned."
   ]
  },
  {
   "cell_type": "code",
   "execution_count": null,
   "metadata": {},
   "outputs": [],
   "source": [
    "b) Seaborn."
   ]
  },
  {
   "cell_type": "markdown",
   "metadata": {},
   "source": [
    "Q140 x-ray brings the labelled data power of pandas to the physical\n",
    "sciences.\n",
    "a) True\n",
    "b) False"
   ]
  },
  {
   "cell_type": "code",
   "execution_count": null,
   "metadata": {},
   "outputs": [],
   "source": [
    "a) True"
   ]
  },
  {
   "cell_type": "markdown",
   "metadata": {},
   "source": [
    "Q141. Which of the following is the base layer of all of the sparse\n",
    "has it indexed data structures?\n",
    "a) SArray.\n",
    "b) SparseArray.\n",
    "c) PyArray.\n",
    "d) None of the mentioned"
   ]
  },
  {
   "cell_type": "code",
   "execution_count": null,
   "metadata": {},
   "outputs": [],
   "source": [
    "b) SparseArray."
   ]
  },
  {
   "cell_type": "markdown",
   "metadata": {},
   "source": [
    "Q142. Point out the correct statement.\n",
    "a) All of the standard pandas data structures have to_sparse method\n",
    "b) Any sparse object can be converted back to the standard dense form by calling\n",
    "the to_dense\n",
    "c) The sparse objects exist for memory efficiency reasons.\n",
    "d) All of the mentioned."
   ]
  },
  {
   "cell_type": "code",
   "execution_count": null,
   "metadata": {},
   "outputs": [],
   "source": [
    "d) All of the mentioned."
   ]
  },
  {
   "cell_type": "markdown",
   "metadata": {},
   "source": [
    "Q143. Which of the following is not an indexed object?\n",
    "a) SparseSeries.\n",
    "b) SparseDataFrame.\n",
    "c) SparsePanel.\n",
    "d) None of the mentioned."
   ]
  },
  {
   "cell_type": "code",
   "execution_count": null,
   "metadata": {},
   "outputs": [],
   "source": [
    "d) None of the mentioned."
   ]
  },
  {
   "cell_type": "markdown",
   "metadata": {},
   "source": [
    "Q144. Which of the following list like data structure is used for managing\n",
    "the dynamic collection of SparseArrays?\n",
    "a) SparseList.\n",
    "b) GeoList.\n",
    "c) SparseSeries.\n",
    "d) All of the mentioned."
   ]
  },
  {
   "cell_type": "code",
   "execution_count": null,
   "metadata": {},
   "outputs": [],
   "source": [
    "a) SparseList."
   ]
  },
  {
   "cell_type": "markdown",
   "metadata": {},
   "source": [
    "Q145. Point out the wrong statement.\n",
    "a) to_array. append can accept scalar values or any 2-D sequence.\n",
    "b) Two kinds of SparseIndex are implemented.\n",
    "c) The integer format keeps an arrays of all locations, where the data are not equal\n",
    "to the fill value.\n",
    "d) None of the mentioned"
   ]
  },
  {
   "cell_type": "code",
   "execution_count": null,
   "metadata": {},
   "outputs": [],
   "source": [
    "a) to_array. append can accept scalar values or any 2-D sequence"
   ]
  },
  {
   "cell_type": "markdown",
   "metadata": {},
   "source": [
    "Q146. Which of the following method used for transforming the\n",
    "Sparse-series index by the MultiIndex to a\n",
    "scipy.sparse.coo_matrix?\n",
    "a) SparseSeries.to_coo().\n",
    "b) Series.to_coo().\n",
    "c) SparseSeries.to_cooser()"
   ]
  },
  {
   "cell_type": "code",
   "execution_count": null,
   "metadata": {},
   "outputs": [],
   "source": [
    "a) SparseSeries.to_coo()"
   ]
  },
  {
   "cell_type": "markdown",
   "metadata": {},
   "source": [
    "Q147. The integer format tracks only the locations and the sizes of\n",
    "blocks of data.\n",
    "a) True\n",
    "b) False"
   ]
  },
  {
   "cell_type": "code",
   "execution_count": null,
   "metadata": {},
   "outputs": [],
   "source": [
    "b) False"
   ]
  },
  {
   "cell_type": "markdown",
   "metadata": {},
   "source": [
    "Q148. Which of the following is used for the testing for membership in\n",
    "the list of column names?\n",
    "a) in.\n",
    "b) out.\n",
    "c) else if.\n",
    "d) none of the mentioned.\n"
   ]
  },
  {
   "cell_type": "code",
   "execution_count": null,
   "metadata": {},
   "outputs": [],
   "source": [
    "a) in."
   ]
  },
  {
   "cell_type": "markdown",
   "metadata": {},
   "source": [
    "Q149. Which of the following indexing capabilities is used as the concise\n",
    "means of selecting data from a pandas object?\n",
    "a) In.\n",
    "b) ix.\n",
    "c) ipy.\n",
    "d) none of the mentioned"
   ]
  },
  {
   "cell_type": "code",
   "execution_count": null,
   "metadata": {},
   "outputs": [],
   "source": [
    "b) ix"
   ]
  },
  {
   "cell_type": "markdown",
   "metadata": {},
   "source": [
    "Q150. Pandas follow the NumPy convention of raising an error when\n",
    "you try to convert something to a bool.\n",
    "a) True\n",
    "b) False"
   ]
  },
  {
   "cell_type": "code",
   "execution_count": null,
   "metadata": {},
   "outputs": [],
   "source": [
    "a) True"
   ]
  }
 ],
 "metadata": {
  "kernelspec": {
   "display_name": "Python 3",
   "language": "python",
   "name": "python3"
  },
  "language_info": {
   "codemirror_mode": {
    "name": "ipython",
    "version": 3
   },
   "file_extension": ".py",
   "mimetype": "text/x-python",
   "name": "python",
   "nbconvert_exporter": "python",
   "pygments_lexer": "ipython3",
   "version": "3.7.4"
  }
 },
 "nbformat": 4,
 "nbformat_minor": 4
}
